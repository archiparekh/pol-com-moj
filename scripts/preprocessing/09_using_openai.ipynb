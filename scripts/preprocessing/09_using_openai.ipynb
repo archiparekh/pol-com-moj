{
  "cells": [
    {
      "cell_type": "markdown",
      "metadata": {},
      "source": [
        "### Fetch Audio Transcriptions using OpenAI Whisper\n",
        "Note: This code was ran on Google Colab with a T4 GPU"
      ]
    },
    {
      "cell_type": "code",
      "execution_count": null,
      "metadata": {
        "colab": {
          "base_uri": "https://localhost:8080/"
        },
        "id": "qdB91fLoEUYa",
        "outputId": "a530a4c1-c3ff-4202-ad93-3c8267c03a43"
      },
      "outputs": [],
      "source": [
        "!pip install -U openai-whisper"
      ]
    },
    {
      "cell_type": "code",
      "execution_count": null,
      "metadata": {
        "colab": {
          "base_uri": "https://localhost:8080/"
        },
        "id": "C2kFRXl6EkUt",
        "outputId": "31c74bf0-ed80-4c28-f8aa-7e3da5b9aa1a"
      },
      "outputs": [
        {
          "name": "stderr",
          "output_type": "stream",
          "text": [
            "100%|███████████████████████████████████████| 461M/461M [00:14<00:00, 34.5MiB/s]\n"
          ]
        }
      ],
      "source": [
        "import whisper\n",
        "\n",
        "model = whisper.load_model(\"small\")\n"
      ]
    },
    {
      "cell_type": "code",
      "execution_count": null,
      "metadata": {
        "id": "kK8FR0X9c8lv"
      },
      "outputs": [],
      "source": [
        "import os\n",
        "import pandas as pd\n",
        "from moviepy.editor import *"
      ]
    },
    {
      "cell_type": "code",
      "execution_count": null,
      "metadata": {},
      "outputs": [],
      "source": [
        "# Convert all mp4 files into mp3 files \n",
        "# this was done in batches\n",
        "folder=\"videos_18\"\n",
        "\n",
        "video_files = os.listdir(f\"drive/MyDrive/Capstone/Videos/{folder}\")\n",
        "\n",
        "\n",
        "starttime = datetime.now()\n",
        "for i, file in enumerate(video_files[34:]):\n",
        "  try:\n",
        "    video = VideoFileClip(f\"drive/MyDrive/Capstone/Videos/{folder}/{file}\")\n",
        "\n",
        "    audio_path = f\"drive/MyDrive/Capstone/audios/{folder}/{file[:-1]}3\"\n",
        "    video.audio.write_audiofile(audio_path)\n",
        "  except:\n",
        "    print(f\"FAIL: {folder} {file}\")\n",
        "    failed_videos.append(f\"{folder}/{file}\")\n",
        "\n",
        "endtime = datetime.now()\n",
        "print(endtime - starttime)"
      ]
    },
    {
      "cell_type": "code",
      "execution_count": null,
      "metadata": {
        "colab": {
          "base_uri": "https://localhost:8080/"
        },
        "id": "hKrtNm3atmaR",
        "outputId": "8f7cee15-0fba-4577-e555-8714251e42fc"
      },
      "outputs": [
        {
          "name": "stdout",
          "output_type": "stream",
          "text": [
            "3119\n"
          ]
        }
      ],
      "source": [
        "folders = os.listdir(\"drive/MyDrive/Capstone/audios/\")\n",
        "total_videos = 0\n",
        "for folder in folders:\n",
        "  total_videos += len(os.listdir(f\"drive/MyDrive/Capstone/audios/{folder}\"))\n",
        "\n",
        "print(total_videos)"
      ]
    },
    {
      "cell_type": "code",
      "execution_count": null,
      "metadata": {
        "colab": {
          "base_uri": "https://localhost:8080/"
        },
        "id": "3A8B3lsABGB5",
        "outputId": "278fc221-cb0a-42c9-c4c1-59d91814d648"
      },
      "outputs": [],
      "source": [
        "for batch_num in range(1,19):\n",
        "  audio_data = pd.DataFrame(columns=[\"filename\", \"text\", \"lang\"])\n",
        "  base_path=f\"drive/MyDrive/Capstone/audios/videos_{batch_num}\"\n",
        "  files = os.listdir(base_path)\n",
        "  for i, file in enumerate(files):\n",
        "    result = model.transcribe(f\"{base_path}/{file}\")\n",
        "    audio_data.loc[i] = [file[:-4], result[\"text\"], result[\"language\"]]\n",
        "\n",
        "\n",
        "  audio_data.to_csv(f\"drive/MyDrive/transcribed_audios_{batch_num}.csv\")"
      ]
    }
  ],
  "metadata": {
    "accelerator": "GPU",
    "colab": {
      "gpuType": "T4",
      "provenance": []
    },
    "kernelspec": {
      "display_name": "Python 3",
      "name": "python3"
    },
    "language_info": {
      "name": "python"
    }
  },
  "nbformat": 4,
  "nbformat_minor": 0
}
