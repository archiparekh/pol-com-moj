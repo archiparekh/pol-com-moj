{
 "cells": [
  {
   "cell_type": "markdown",
   "metadata": {},
   "source": [
    "Testing/Organizing For Topic Modeling"
   ]
  },
  {
   "cell_type": "code",
   "execution_count": 1,
   "metadata": {},
   "outputs": [],
   "source": [
    "import pandas as pd"
   ]
  },
  {
   "cell_type": "code",
   "execution_count": 2,
   "metadata": {},
   "outputs": [],
   "source": [
    "df = pd.read_csv(\"../audio_translations_3221.csv\")\n",
    "df.drop(df.columns[[0,1,2,3,10]], axis=1) \\\n",
    "    .to_csv(\"../../data/files/post_audio_translations.csv\")\n",
    "# df.to_csv(\"../../data/files/processed/post_audio_translations.csv\")"
   ]
  },
  {
   "cell_type": "code",
   "execution_count": null,
   "metadata": {},
   "outputs": [],
   "source": [
    "pd.read_csv(\"../ocr_translations.csv\").drop(columns=[\"Unnamed: 0\"]) \\\n",
    "    .to_csv(\"../../data/files/post_ocr_translations.csv\")"
   ]
  },
  {
   "cell_type": "code",
   "execution_count": 4,
   "metadata": {},
   "outputs": [],
   "source": [
    "audio_df = pd.read_csv(\"../../data/files/post_audio_translations.csv\")\n",
    "ocr_df = pd.read_csv(\"../../data/files/post_ocr_translations.csv\")"
   ]
  },
  {
   "cell_type": "code",
   "execution_count": 28,
   "metadata": {},
   "outputs": [
    {
     "data": {
      "text/html": [
       "<div>\n",
       "<style scoped>\n",
       "    .dataframe tbody tr th:only-of-type {\n",
       "        vertical-align: middle;\n",
       "    }\n",
       "\n",
       "    .dataframe tbody tr th {\n",
       "        vertical-align: top;\n",
       "    }\n",
       "\n",
       "    .dataframe thead th {\n",
       "        text-align: right;\n",
       "    }\n",
       "</style>\n",
       "<table border=\"1\" class=\"dataframe\">\n",
       "  <thead>\n",
       "    <tr style=\"text-align: right;\">\n",
       "      <th></th>\n",
       "      <th>Unnamed: 0</th>\n",
       "      <th>filename</th>\n",
       "      <th>ocr_lang</th>\n",
       "      <th>clean_ocr</th>\n",
       "      <th>ocr_translation</th>\n",
       "    </tr>\n",
       "  </thead>\n",
       "  <tbody>\n",
       "    <tr>\n",
       "      <th>0</th>\n",
       "      <td>0</td>\n",
       "      <td>ArXogppwroUVpeDRgbGGTJkv8PjG2EUNy3ne</td>\n",
       "      <td>en</td>\n",
       "      <td>akhilesh srkar</td>\n",
       "      <td>akhilesh srkar</td>\n",
       "    </tr>\n",
       "    <tr>\n",
       "      <th>1</th>\n",
       "      <td>1</td>\n",
       "      <td>ArXogppwroUVpeDRgbGGTJkv8PnJWBhNKRQ9</td>\n",
       "      <td>en</td>\n",
       "      <td>ews</td>\n",
       "      <td>ews</td>\n",
       "    </tr>\n",
       "    <tr>\n",
       "      <th>2</th>\n",
       "      <td>2</td>\n",
       "      <td>BgJDK880gDUv18KebL99TRJGmXBgx2s4KJy0</td>\n",
       "      <td>en</td>\n",
       "      <td>jai shree ram jai shree ram jai shree rame jai...</td>\n",
       "      <td>jay jay jay jay jay jay credit credit credit c...</td>\n",
       "    </tr>\n",
       "    <tr>\n",
       "      <th>3</th>\n",
       "      <td>3</td>\n",
       "      <td>BgJDK880gDUv18KebL99TRJGmpNodLS4KJy8</td>\n",
       "      <td>en</td>\n",
       "      <td>i believe that investigating in a teleprompter...</td>\n",
       "      <td>i believe that investigating investigating inv...</td>\n",
       "    </tr>\n",
       "    <tr>\n",
       "      <th>4</th>\n",
       "      <td>4</td>\n",
       "      <td>BgJDK880gDUv18KebL99TRJGmrOKW0T4lV2E</td>\n",
       "      <td>en</td>\n",
       "      <td>kcc dewlahlnd</td>\n",
       "      <td>kcc dewlahlnd</td>\n",
       "    </tr>\n",
       "  </tbody>\n",
       "</table>\n",
       "</div>"
      ],
      "text/plain": [
       "   Unnamed: 0                              filename ocr_lang  \\\n",
       "0           0  ArXogppwroUVpeDRgbGGTJkv8PjG2EUNy3ne       en   \n",
       "1           1  ArXogppwroUVpeDRgbGGTJkv8PnJWBhNKRQ9       en   \n",
       "2           2  BgJDK880gDUv18KebL99TRJGmXBgx2s4KJy0       en   \n",
       "3           3  BgJDK880gDUv18KebL99TRJGmpNodLS4KJy8       en   \n",
       "4           4  BgJDK880gDUv18KebL99TRJGmrOKW0T4lV2E       en   \n",
       "\n",
       "                                           clean_ocr  \\\n",
       "0                                     akhilesh srkar   \n",
       "1                                                ews   \n",
       "2  jai shree ram jai shree ram jai shree rame jai...   \n",
       "3  i believe that investigating in a teleprompter...   \n",
       "4                                      kcc dewlahlnd   \n",
       "\n",
       "                                     ocr_translation  \n",
       "0                                     akhilesh srkar  \n",
       "1                                                ews  \n",
       "2  jay jay jay jay jay jay credit credit credit c...  \n",
       "3  i believe that investigating investigating inv...  \n",
       "4                                      kcc dewlahlnd  "
      ]
     },
     "execution_count": 28,
     "metadata": {},
     "output_type": "execute_result"
    }
   ],
   "source": [
    "ocr_df.head()"
   ]
  },
  {
   "cell_type": "markdown",
   "metadata": {},
   "source": [
    "Creating the Spreadsheet for STM"
   ]
  },
  {
   "cell_type": "code",
   "execution_count": 35,
   "metadata": {},
   "outputs": [],
   "source": [
    "df = audio_df[[\"filename\", \"lang\", \"text_non_ascii\", \"i\"]].merge(ocr_df[[\"filename\", \"ocr_lang\", \"ocr_translation\"]], on=\"filename\")"
   ]
  },
  {
   "cell_type": "code",
   "execution_count": 36,
   "metadata": {},
   "outputs": [
    {
     "data": {
      "text/html": [
       "<div>\n",
       "<style scoped>\n",
       "    .dataframe tbody tr th:only-of-type {\n",
       "        vertical-align: middle;\n",
       "    }\n",
       "\n",
       "    .dataframe tbody tr th {\n",
       "        vertical-align: top;\n",
       "    }\n",
       "\n",
       "    .dataframe thead th {\n",
       "        text-align: right;\n",
       "    }\n",
       "</style>\n",
       "<table border=\"1\" class=\"dataframe\">\n",
       "  <thead>\n",
       "    <tr style=\"text-align: right;\">\n",
       "      <th></th>\n",
       "      <th>filename</th>\n",
       "      <th>lang</th>\n",
       "      <th>text_non_ascii</th>\n",
       "      <th>i</th>\n",
       "      <th>ocr_lang</th>\n",
       "      <th>ocr_translation</th>\n",
       "    </tr>\n",
       "  </thead>\n",
       "  <tbody>\n",
       "    <tr>\n",
       "      <th>0</th>\n",
       "      <td>019LEGGl1LHm41w3QB77sy30j5K9G8UEw9ND</td>\n",
       "      <td>bn</td>\n",
       "      <td>niest</td>\n",
       "      <td>3150579325</td>\n",
       "      <td>en</td>\n",
       "      <td>ghassu0414 chassu0414 bhassu0414 3hassu0414</td>\n",
       "    </tr>\n",
       "    <tr>\n",
       "      <th>1</th>\n",
       "      <td>019LEGGl1LHm41w3QB77sy36BgA5OViEKmLd</td>\n",
       "      <td>hi</td>\n",
       "      <td>in the world if someone is seriously ill and t...</td>\n",
       "      <td>3136427586</td>\n",
       "      <td>hi</td>\n",
       "      <td>The driver divided the people on the basis of ...</td>\n",
       "    </tr>\n",
       "    <tr>\n",
       "      <th>2</th>\n",
       "      <td>019LEGGl1LHm41w3QB77sy36BlopOOcELNkn</td>\n",
       "      <td>hi</td>\n",
       "      <td>baby fuck everyone gggggggggggggggggggggg we h...</td>\n",
       "      <td>3138105939</td>\n",
       "      <td>hi</td>\n",
       "      <td>socialiya Let Modi win and reach socialiya Let...</td>\n",
       "    </tr>\n",
       "    <tr>\n",
       "      <th>3</th>\n",
       "      <td>019LEGGl1LHm41w3QB77sy39gZnGJxuEWWGP</td>\n",
       "      <td>hi</td>\n",
       "      <td>it is going on like this we are going to see f...</td>\n",
       "      <td>3178049783</td>\n",
       "      <td>en</td>\n",
       "      <td>yadav hr55a02773 hr55a02773 773 2773 vadav 35a...</td>\n",
       "    </tr>\n",
       "    <tr>\n",
       "      <th>4</th>\n",
       "      <td>019LEGGl1LHm41w3QB77sy39QnpXO8fEWWYd</td>\n",
       "      <td>en</td>\n",
       "      <td>NaN</td>\n",
       "      <td>3169401772</td>\n",
       "      <td>en</td>\n",
       "      <td>do akhileshiyans ad amana</td>\n",
       "    </tr>\n",
       "  </tbody>\n",
       "</table>\n",
       "</div>"
      ],
      "text/plain": [
       "                               filename lang  \\\n",
       "0  019LEGGl1LHm41w3QB77sy30j5K9G8UEw9ND   bn   \n",
       "1  019LEGGl1LHm41w3QB77sy36BgA5OViEKmLd   hi   \n",
       "2  019LEGGl1LHm41w3QB77sy36BlopOOcELNkn   hi   \n",
       "3  019LEGGl1LHm41w3QB77sy39gZnGJxuEWWGP   hi   \n",
       "4  019LEGGl1LHm41w3QB77sy39QnpXO8fEWWYd   en   \n",
       "\n",
       "                                      text_non_ascii           i ocr_lang  \\\n",
       "0                                              niest  3150579325       en   \n",
       "1  in the world if someone is seriously ill and t...  3136427586       hi   \n",
       "2  baby fuck everyone gggggggggggggggggggggg we h...  3138105939       hi   \n",
       "3  it is going on like this we are going to see f...  3178049783       en   \n",
       "4                                                NaN  3169401772       en   \n",
       "\n",
       "                                     ocr_translation  \n",
       "0        ghassu0414 chassu0414 bhassu0414 3hassu0414  \n",
       "1  The driver divided the people on the basis of ...  \n",
       "2  socialiya Let Modi win and reach socialiya Let...  \n",
       "3  yadav hr55a02773 hr55a02773 773 2773 vadav 35a...  \n",
       "4                          do akhileshiyans ad amana  "
      ]
     },
     "execution_count": 36,
     "metadata": {},
     "output_type": "execute_result"
    }
   ],
   "source": [
    "df.head()"
   ]
  },
  {
   "cell_type": "code",
   "execution_count": 37,
   "metadata": {},
   "outputs": [
    {
     "data": {
      "text/html": [
       "<div>\n",
       "<style scoped>\n",
       "    .dataframe tbody tr th:only-of-type {\n",
       "        vertical-align: middle;\n",
       "    }\n",
       "\n",
       "    .dataframe tbody tr th {\n",
       "        vertical-align: top;\n",
       "    }\n",
       "\n",
       "    .dataframe thead th {\n",
       "        text-align: right;\n",
       "    }\n",
       "</style>\n",
       "<table border=\"1\" class=\"dataframe\">\n",
       "  <thead>\n",
       "    <tr style=\"text-align: right;\">\n",
       "      <th></th>\n",
       "      <th>filename</th>\n",
       "      <th>audio_lang</th>\n",
       "      <th>audio_text</th>\n",
       "      <th>i</th>\n",
       "      <th>ocr_lang</th>\n",
       "      <th>ocr_text</th>\n",
       "    </tr>\n",
       "  </thead>\n",
       "  <tbody>\n",
       "    <tr>\n",
       "      <th>0</th>\n",
       "      <td>019LEGGl1LHm41w3QB77sy30j5K9G8UEw9ND</td>\n",
       "      <td>bn</td>\n",
       "      <td>niest</td>\n",
       "      <td>3150579325</td>\n",
       "      <td>en</td>\n",
       "      <td>ghassu0414 chassu0414 bhassu0414 3hassu0414</td>\n",
       "    </tr>\n",
       "    <tr>\n",
       "      <th>1</th>\n",
       "      <td>019LEGGl1LHm41w3QB77sy36BgA5OViEKmLd</td>\n",
       "      <td>hi</td>\n",
       "      <td>in the world if someone is seriously ill and t...</td>\n",
       "      <td>3136427586</td>\n",
       "      <td>hi</td>\n",
       "      <td>The driver divided the people on the basis of ...</td>\n",
       "    </tr>\n",
       "    <tr>\n",
       "      <th>2</th>\n",
       "      <td>019LEGGl1LHm41w3QB77sy36BlopOOcELNkn</td>\n",
       "      <td>hi</td>\n",
       "      <td>baby fuck everyone gggggggggggggggggggggg we h...</td>\n",
       "      <td>3138105939</td>\n",
       "      <td>hi</td>\n",
       "      <td>socialiya Let Modi win and reach socialiya Let...</td>\n",
       "    </tr>\n",
       "    <tr>\n",
       "      <th>3</th>\n",
       "      <td>019LEGGl1LHm41w3QB77sy39gZnGJxuEWWGP</td>\n",
       "      <td>hi</td>\n",
       "      <td>it is going on like this we are going to see f...</td>\n",
       "      <td>3178049783</td>\n",
       "      <td>en</td>\n",
       "      <td>yadav hr55a02773 hr55a02773 773 2773 vadav 35a...</td>\n",
       "    </tr>\n",
       "    <tr>\n",
       "      <th>4</th>\n",
       "      <td>019LEGGl1LHm41w3QB77sy39QnpXO8fEWWYd</td>\n",
       "      <td>en</td>\n",
       "      <td>NaN</td>\n",
       "      <td>3169401772</td>\n",
       "      <td>en</td>\n",
       "      <td>do akhileshiyans ad amana</td>\n",
       "    </tr>\n",
       "  </tbody>\n",
       "</table>\n",
       "</div>"
      ],
      "text/plain": [
       "                               filename audio_lang  \\\n",
       "0  019LEGGl1LHm41w3QB77sy30j5K9G8UEw9ND         bn   \n",
       "1  019LEGGl1LHm41w3QB77sy36BgA5OViEKmLd         hi   \n",
       "2  019LEGGl1LHm41w3QB77sy36BlopOOcELNkn         hi   \n",
       "3  019LEGGl1LHm41w3QB77sy39gZnGJxuEWWGP         hi   \n",
       "4  019LEGGl1LHm41w3QB77sy39QnpXO8fEWWYd         en   \n",
       "\n",
       "                                          audio_text           i ocr_lang  \\\n",
       "0                                              niest  3150579325       en   \n",
       "1  in the world if someone is seriously ill and t...  3136427586       hi   \n",
       "2  baby fuck everyone gggggggggggggggggggggg we h...  3138105939       hi   \n",
       "3  it is going on like this we are going to see f...  3178049783       en   \n",
       "4                                                NaN  3169401772       en   \n",
       "\n",
       "                                            ocr_text  \n",
       "0        ghassu0414 chassu0414 bhassu0414 3hassu0414  \n",
       "1  The driver divided the people on the basis of ...  \n",
       "2  socialiya Let Modi win and reach socialiya Let...  \n",
       "3  yadav hr55a02773 hr55a02773 773 2773 vadav 35a...  \n",
       "4                          do akhileshiyans ad amana  "
      ]
     },
     "execution_count": 37,
     "metadata": {},
     "output_type": "execute_result"
    }
   ],
   "source": [
    "df.columns = [\"filename\", \"audio_lang\", \"audio_text\", \"i\", \"ocr_lang\", \"ocr_text\"]\n",
    "df.head()"
   ]
  },
  {
   "cell_type": "code",
   "execution_count": 52,
   "metadata": {},
   "outputs": [],
   "source": [
    "import numpy as np"
   ]
  },
  {
   "cell_type": "code",
   "execution_count": 58,
   "metadata": {},
   "outputs": [],
   "source": [
    "df.loc[df.audio_text.isna(), \"audio_lang\"] = \"none\"\n",
    "df.loc[df.audio_text.isna(), \"audio_text\"] = \"\"\n",
    "df.loc[df.ocr_text.isna(), \"ocr_text\"] = \"\""
   ]
  },
  {
   "cell_type": "code",
   "execution_count": 60,
   "metadata": {},
   "outputs": [],
   "source": [
    "df.to_csv(\"../../data/files/ocr_audio_combined_3221.csv\")"
   ]
  },
  {
   "cell_type": "code",
   "execution_count": 63,
   "metadata": {},
   "outputs": [
    {
     "data": {
      "text/plain": [
       "Index(['Unnamed: 0', 'i', 'a', 'ad', 'adult', 'approved', 'attributedvideourl',\n",
       "       'audioid', 'authorid', 'authoridstatus', 'b', 'bottomvisibilityflag',\n",
       "       'c', 'cd', 'clarifaiscore', 'compressedvideourl', 'd', 'duetenabled',\n",
       "       'duetoriginalauthorid', 'duetoriginalpostid', 'encodedtext',\n",
       "       'encodedtextv2', 'favouritecount', 'h', 'hideheader', 'hidepadding',\n",
       "       'incrclipid', 'isfeatured', 'ismuted', 'isprivate', 'l', 'langstatus',\n",
       "       'lc', 'm', 'meta', 'n', 'newspublisherstatus', 'o', 'permalink',\n",
       "       'thumb', 'us', 'usc', 'v', 'w', 'y', 'post_day', 'post_month',\n",
       "       'post_year', 'post_date_string', 'party', 'collected_on', 'updated_on',\n",
       "       'c2', 'isdisabled'],\n",
       "      dtype='object')"
      ]
     },
     "execution_count": 63,
     "metadata": {},
     "output_type": "execute_result"
    }
   ],
   "source": [
    "datasetdf = pd.read_csv(\"../../data/files/dataset.csv\")\n",
    "datasetdf.columns"
   ]
  },
  {
   "cell_type": "code",
   "execution_count": 77,
   "metadata": {},
   "outputs": [],
   "source": [
    "df = df.merge(datasetdf[[\"i\",\"lc\", \"l\", \"c2\", \"party\"]], on=\"i\")"
   ]
  },
  {
   "cell_type": "code",
   "execution_count": 83,
   "metadata": {},
   "outputs": [],
   "source": [
    "party_groupings = {\n",
    "    \"Samajwadi\": \"yadav samajwadiparty akhileshyadav samajwadi sapa dimpleyadav\".split(), \n",
    "    \"AAP\": \"aap aaap kejriwal arvindkejriwal\".split(), \n",
    "    \"AIMIM\": \"aimim owaisi asaduddinowaisi akbaruddinowaisi\".split(),\n",
    "    \"Congress\": \"inc congress gandhi bjpfails rahulnahirukega\".split(), \n",
    "    \"BJP\": \"yogi bjp pmmodi modi narendramodi rss\".split()\n",
    "}\n",
    "pol_groupings = {\n",
    "     \"Politicians\": \"yogi yadav owaisi akhileshyadav asaduddinowaisi pmmodi modi narendramodi gandhi kejriwal rahulnahirukega dimpleyadav arvindkejriwal akbaruddinowaisi\".split(),\n",
    "    \"Non-Politicians\": \"aap aimim bjp samajwadiparty congress aaap rss samajwadi bjpfails sapa inc\".split()\n",
    "}"
   ]
  },
  {
   "cell_type": "code",
   "execution_count": 84,
   "metadata": {},
   "outputs": [],
   "source": [
    "by_party = {}\n",
    "for cat in party_groupings.keys():\n",
    "    for h in party_groupings[cat]:\n",
    "        by_party[h] = cat\n",
    "\n",
    "by_pol = {}\n",
    "for cat in pol_groupings.keys():\n",
    "    for h in pol_groupings[cat]:\n",
    "        by_pol[h] = cat"
   ]
  },
  {
   "cell_type": "code",
   "execution_count": 86,
   "metadata": {},
   "outputs": [],
   "source": [
    "df[\"party_cat\"] = df.party.apply(lambda x: by_party[x])\n",
    "df[\"pol_cat\"] = df.party.apply(lambda x: by_pol[x])"
   ]
  },
  {
   "cell_type": "code",
   "execution_count": 90,
   "metadata": {},
   "outputs": [],
   "source": [
    "df[\"has_audio\"] = df.audio_text != \"\"\n",
    "df[\"has_ocr\"] = df.ocr_lang != \"empty\""
   ]
  },
  {
   "cell_type": "code",
   "execution_count": 92,
   "metadata": {},
   "outputs": [],
   "source": [
    "df.to_csv(\"../../data/files/tm_dataset.csv\")"
   ]
  },
  {
   "cell_type": "code",
   "execution_count": 93,
   "metadata": {},
   "outputs": [
    {
     "data": {
      "text/plain": [
       "Index(['filename', 'audio_lang', 'audio_text', 'i', 'ocr_lang', 'ocr_text',\n",
       "       'lc', 'l', 'c2', 'party', 'party_cat', 'pol_cat', 'has_audio',\n",
       "       'has_ocr'],\n",
       "      dtype='object')"
      ]
     },
     "execution_count": 93,
     "metadata": {},
     "output_type": "execute_result"
    }
   ],
   "source": [
    "df.columns"
   ]
  },
  {
   "cell_type": "code",
   "execution_count": null,
   "metadata": {},
   "outputs": [],
   "source": []
  }
 ],
 "metadata": {
  "kernelspec": {
   "display_name": "Python 3",
   "language": "python",
   "name": "python3"
  },
  "language_info": {
   "codemirror_mode": {
    "name": "ipython",
    "version": 3
   },
   "file_extension": ".py",
   "mimetype": "text/x-python",
   "name": "python",
   "nbconvert_exporter": "python",
   "pygments_lexer": "ipython3",
   "version": "3.11.1"
  }
 },
 "nbformat": 4,
 "nbformat_minor": 2
}
