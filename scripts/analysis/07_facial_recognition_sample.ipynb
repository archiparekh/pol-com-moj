{
 "cells": [
  {
   "cell_type": "markdown",
   "metadata": {},
   "source": [
    "### Analyzing Accuracy of FR with Samples"
   ]
  },
  {
   "cell_type": "code",
   "execution_count": 2,
   "metadata": {},
   "outputs": [],
   "source": [
    "import matplotlib.pyplot as plt\n",
    "import pandas as pd\n",
    "import numpy as np\n",
    "import datetime\n",
    "import re"
   ]
  },
  {
   "cell_type": "markdown",
   "metadata": {},
   "source": [
    "##### Validation"
   ]
  },
  {
   "cell_type": "code",
   "execution_count": 3,
   "metadata": {},
   "outputs": [
    {
     "data": {
      "text/html": [
       "<div>\n",
       "<style scoped>\n",
       "    .dataframe tbody tr th:only-of-type {\n",
       "        vertical-align: middle;\n",
       "    }\n",
       "\n",
       "    .dataframe tbody tr th {\n",
       "        vertical-align: top;\n",
       "    }\n",
       "\n",
       "    .dataframe thead th {\n",
       "        text-align: right;\n",
       "    }\n",
       "</style>\n",
       "<table border=\"1\" class=\"dataframe\">\n",
       "  <thead>\n",
       "    <tr style=\"text-align: right;\">\n",
       "      <th></th>\n",
       "      <th>Unnamed: 0</th>\n",
       "      <th>filename</th>\n",
       "      <th>names</th>\n",
       "      <th>counts</th>\n",
       "      <th>fileLocation</th>\n",
       "      <th>yadav</th>\n",
       "      <th>modi</th>\n",
       "      <th>gandhi</th>\n",
       "      <th>kejriwal</th>\n",
       "      <th>owaisi</th>\n",
       "      <th>...</th>\n",
       "      <th>modi_actual</th>\n",
       "      <th>gandhi_actual</th>\n",
       "      <th>kejriwal_actual</th>\n",
       "      <th>owaisi_actual</th>\n",
       "      <th>Unknown_actual</th>\n",
       "      <th>chann_actual</th>\n",
       "      <th>yogi_actual</th>\n",
       "      <th>amit_actual</th>\n",
       "      <th>shivpal_actual</th>\n",
       "      <th>notes</th>\n",
       "    </tr>\n",
       "  </thead>\n",
       "  <tbody>\n",
       "    <tr>\n",
       "      <th>0</th>\n",
       "      <td>0</td>\n",
       "      <td>vP4j5223PjTGjVkr9pBBuELplmjmP7sXoW54</td>\n",
       "      <td>['yadav', 'Unknown', 'kejriwal', 'Unknown']</td>\n",
       "      <td>{\"kejriwal\": 4}</td>\n",
       "      <td>drive/MyDrive/Capstone/Videos/videos_6/vP4j522...</td>\n",
       "      <td>1</td>\n",
       "      <td>0</td>\n",
       "      <td>0</td>\n",
       "      <td>1</td>\n",
       "      <td>0</td>\n",
       "      <td>...</td>\n",
       "      <td>NaN</td>\n",
       "      <td>NaN</td>\n",
       "      <td>NaN</td>\n",
       "      <td>NaN</td>\n",
       "      <td>1.0</td>\n",
       "      <td>NaN</td>\n",
       "      <td>NaN</td>\n",
       "      <td>NaN</td>\n",
       "      <td>NaN</td>\n",
       "      <td>NaN</td>\n",
       "    </tr>\n",
       "    <tr>\n",
       "      <th>1</th>\n",
       "      <td>1</td>\n",
       "      <td>pPGjB00lPjTdywNrOpZZTpyPNG11rAId3QpB</td>\n",
       "      <td>['Unknown']</td>\n",
       "      <td>{\"gandhi\": 1}</td>\n",
       "      <td>drive/MyDrive/Capstone/Videos/videos_6/pPGjB00...</td>\n",
       "      <td>0</td>\n",
       "      <td>0</td>\n",
       "      <td>0</td>\n",
       "      <td>0</td>\n",
       "      <td>0</td>\n",
       "      <td>...</td>\n",
       "      <td>NaN</td>\n",
       "      <td>NaN</td>\n",
       "      <td>NaN</td>\n",
       "      <td>NaN</td>\n",
       "      <td>1.0</td>\n",
       "      <td>NaN</td>\n",
       "      <td>NaN</td>\n",
       "      <td>NaN</td>\n",
       "      <td>NaN</td>\n",
       "      <td>NaN</td>\n",
       "    </tr>\n",
       "  </tbody>\n",
       "</table>\n",
       "<p>2 rows × 23 columns</p>\n",
       "</div>"
      ],
      "text/plain": [
       "   Unnamed: 0                              filename  \\\n",
       "0           0  vP4j5223PjTGjVkr9pBBuELplmjmP7sXoW54   \n",
       "1           1  pPGjB00lPjTdywNrOpZZTpyPNG11rAId3QpB   \n",
       "\n",
       "                                         names           counts  \\\n",
       "0  ['yadav', 'Unknown', 'kejriwal', 'Unknown']  {\"kejriwal\": 4}   \n",
       "1                                  ['Unknown']    {\"gandhi\": 1}   \n",
       "\n",
       "                                        fileLocation  yadav  modi  gandhi  \\\n",
       "0  drive/MyDrive/Capstone/Videos/videos_6/vP4j522...      1     0       0   \n",
       "1  drive/MyDrive/Capstone/Videos/videos_6/pPGjB00...      0     0       0   \n",
       "\n",
       "   kejriwal  owaisi  ...  modi_actual gandhi_actual  kejriwal_actual  \\\n",
       "0         1       0  ...          NaN           NaN              NaN   \n",
       "1         0       0  ...          NaN           NaN              NaN   \n",
       "\n",
       "   owaisi_actual  Unknown_actual  chann_actual  yogi_actual  amit_actual  \\\n",
       "0            NaN             1.0           NaN          NaN          NaN   \n",
       "1            NaN             1.0           NaN          NaN          NaN   \n",
       "\n",
       "   shivpal_actual  notes  \n",
       "0             NaN    NaN  \n",
       "1             NaN    NaN  \n",
       "\n",
       "[2 rows x 23 columns]"
      ]
     },
     "execution_count": 3,
     "metadata": {},
     "output_type": "execute_result"
    }
   ],
   "source": [
    "frdf = pd.read_csv(\"download_csvs/sample_facial_recog_final.csv\")\n",
    "frdf.head(2)"
   ]
  },
  {
   "cell_type": "code",
   "execution_count": 4,
   "metadata": {},
   "outputs": [],
   "source": [
    "frdf.fillna(0, inplace=True)"
   ]
  },
  {
   "cell_type": "code",
   "execution_count": 5,
   "metadata": {},
   "outputs": [
    {
     "data": {
      "text/html": [
       "<div>\n",
       "<style scoped>\n",
       "    .dataframe tbody tr th:only-of-type {\n",
       "        vertical-align: middle;\n",
       "    }\n",
       "\n",
       "    .dataframe tbody tr th {\n",
       "        vertical-align: top;\n",
       "    }\n",
       "\n",
       "    .dataframe thead th {\n",
       "        text-align: right;\n",
       "    }\n",
       "</style>\n",
       "<table border=\"1\" class=\"dataframe\">\n",
       "  <thead>\n",
       "    <tr style=\"text-align: right;\">\n",
       "      <th></th>\n",
       "      <th>face</th>\n",
       "      <th>positive</th>\n",
       "      <th>negative</th>\n",
       "    </tr>\n",
       "  </thead>\n",
       "  <tbody>\n",
       "    <tr>\n",
       "      <th>0</th>\n",
       "      <td>yadav</td>\n",
       "      <td>66</td>\n",
       "      <td>9</td>\n",
       "    </tr>\n",
       "    <tr>\n",
       "      <th>1</th>\n",
       "      <td>modi</td>\n",
       "      <td>60</td>\n",
       "      <td>15</td>\n",
       "    </tr>\n",
       "    <tr>\n",
       "      <th>2</th>\n",
       "      <td>gandhi</td>\n",
       "      <td>67</td>\n",
       "      <td>8</td>\n",
       "    </tr>\n",
       "    <tr>\n",
       "      <th>3</th>\n",
       "      <td>kejriwal</td>\n",
       "      <td>63</td>\n",
       "      <td>12</td>\n",
       "    </tr>\n",
       "    <tr>\n",
       "      <th>4</th>\n",
       "      <td>owaisi</td>\n",
       "      <td>72</td>\n",
       "      <td>3</td>\n",
       "    </tr>\n",
       "  </tbody>\n",
       "</table>\n",
       "</div>"
      ],
      "text/plain": [
       "       face  positive  negative\n",
       "0     yadav        66         9\n",
       "1      modi        60        15\n",
       "2    gandhi        67         8\n",
       "3  kejriwal        63        12\n",
       "4    owaisi        72         3"
      ]
     },
     "execution_count": 5,
     "metadata": {},
     "output_type": "execute_result"
    }
   ],
   "source": [
    "people = \"yadav modi gandhi kejriwal owaisi\".split()\n",
    "accuracies = []\n",
    "for person in people:\n",
    "    accuracies.append((frdf[person] == frdf[f\"{person}_actual\"]).value_counts())\n",
    "\n",
    "trues = [calc[0] for calc in accuracies]\n",
    "falses = [calc[1] for calc in accuracies]\n",
    "\n",
    "accuracydf = pd.DataFrame({\n",
    "    \"face\": people, \n",
    "    \"positive\": trues,\n",
    "    \"negative\": falses\n",
    "})\n",
    "\n",
    "accuracydf"
   ]
  },
  {
   "cell_type": "code",
   "execution_count": 17,
   "metadata": {},
   "outputs": [
    {
     "data": {
      "text/plain": [
       "0.874"
      ]
     },
     "execution_count": 17,
     "metadata": {},
     "output_type": "execute_result"
    }
   ],
   "source": [
    "4.37/5"
   ]
  },
  {
   "cell_type": "code",
   "execution_count": 15,
   "metadata": {},
   "outputs": [
    {
     "data": {
      "text/html": [
       "<div>\n",
       "<style scoped>\n",
       "    .dataframe tbody tr th:only-of-type {\n",
       "        vertical-align: middle;\n",
       "    }\n",
       "\n",
       "    .dataframe tbody tr th {\n",
       "        vertical-align: top;\n",
       "    }\n",
       "\n",
       "    .dataframe thead th {\n",
       "        text-align: right;\n",
       "    }\n",
       "</style>\n",
       "<table border=\"1\" class=\"dataframe\">\n",
       "  <thead>\n",
       "    <tr style=\"text-align: right;\">\n",
       "      <th></th>\n",
       "      <th>face</th>\n",
       "      <th>positive</th>\n",
       "      <th>negative</th>\n",
       "      <th>accuracy</th>\n",
       "    </tr>\n",
       "  </thead>\n",
       "  <tbody>\n",
       "    <tr>\n",
       "      <th>0</th>\n",
       "      <td>yadav</td>\n",
       "      <td>66</td>\n",
       "      <td>9</td>\n",
       "      <td>0.880000</td>\n",
       "    </tr>\n",
       "    <tr>\n",
       "      <th>1</th>\n",
       "      <td>modi</td>\n",
       "      <td>60</td>\n",
       "      <td>15</td>\n",
       "      <td>0.800000</td>\n",
       "    </tr>\n",
       "    <tr>\n",
       "      <th>2</th>\n",
       "      <td>gandhi</td>\n",
       "      <td>67</td>\n",
       "      <td>8</td>\n",
       "      <td>0.893333</td>\n",
       "    </tr>\n",
       "    <tr>\n",
       "      <th>3</th>\n",
       "      <td>kejriwal</td>\n",
       "      <td>63</td>\n",
       "      <td>12</td>\n",
       "      <td>0.840000</td>\n",
       "    </tr>\n",
       "    <tr>\n",
       "      <th>4</th>\n",
       "      <td>owaisi</td>\n",
       "      <td>72</td>\n",
       "      <td>3</td>\n",
       "      <td>0.960000</td>\n",
       "    </tr>\n",
       "  </tbody>\n",
       "</table>\n",
       "</div>"
      ],
      "text/plain": [
       "       face  positive  negative  accuracy\n",
       "0     yadav        66         9  0.880000\n",
       "1      modi        60        15  0.800000\n",
       "2    gandhi        67         8  0.893333\n",
       "3  kejriwal        63        12  0.840000\n",
       "4    owaisi        72         3  0.960000"
      ]
     },
     "execution_count": 15,
     "metadata": {},
     "output_type": "execute_result"
    }
   ],
   "source": [
    "accuracydf[\"accuracy\"] = accuracydf[\"positive\"]/75\n",
    "accuracydf"
   ]
  },
  {
   "cell_type": "code",
   "execution_count": 7,
   "metadata": {},
   "outputs": [
    {
     "data": {
      "text/plain": [
       "63"
      ]
     },
     "execution_count": 7,
     "metadata": {},
     "output_type": "execute_result"
    }
   ],
   "source": [
    "((frdf[\"yadav\"] == 0) & (frdf[\"yadav_actual\"] == 0)).value_counts()[0]"
   ]
  },
  {
   "cell_type": "code",
   "execution_count": 8,
   "metadata": {},
   "outputs": [],
   "source": [
    "confusion_mats = []\n",
    "for person in people:\n",
    "    tn = ((frdf[person] == 0) & (frdf[f\"{person}_actual\"] == 0)).value_counts()[0]\n",
    "    fn = ((frdf[person] == 0) & (frdf[f\"{person}_actual\"] == 1)).value_counts()[0]\n",
    "    tp = ((frdf[person] == 1) & (frdf[f\"{person}_actual\"] == 1)).value_counts()[0]\n",
    "    fp = ((frdf[person] == 1) & (frdf[f\"{person}_actual\"] == 0)).value_counts()[0]\n",
    "    cm = pd.DataFrame({\"Actual Positive\": [tp, fp], \"Actual Negative\": [tn, fn]})\n",
    "    confusion_mats.append(cm)"
   ]
  },
  {
   "cell_type": "code",
   "execution_count": 9,
   "metadata": {},
   "outputs": [
    {
     "data": {
      "text/plain": [
       "0     False\n",
       "1     False\n",
       "2     False\n",
       "3     False\n",
       "4     False\n",
       "      ...  \n",
       "70    False\n",
       "71    False\n",
       "72    False\n",
       "73    False\n",
       "74    False\n",
       "Length: 75, dtype: bool"
      ]
     },
     "execution_count": 9,
     "metadata": {},
     "output_type": "execute_result"
    }
   ],
   "source": [
    "person=\"yadav\"\n",
    "((frdf[person] == 1) & (frdf[f\"{person}_actual\"] == 1))"
   ]
  },
  {
   "cell_type": "code",
   "execution_count": 10,
   "metadata": {},
   "outputs": [
    {
     "data": {
      "text/html": [
       "<div>\n",
       "<style scoped>\n",
       "    .dataframe tbody tr th:only-of-type {\n",
       "        vertical-align: middle;\n",
       "    }\n",
       "\n",
       "    .dataframe tbody tr th {\n",
       "        vertical-align: top;\n",
       "    }\n",
       "\n",
       "    .dataframe thead th {\n",
       "        text-align: right;\n",
       "    }\n",
       "</style>\n",
       "<table border=\"1\" class=\"dataframe\">\n",
       "  <thead>\n",
       "    <tr style=\"text-align: right;\">\n",
       "      <th></th>\n",
       "      <th>Unnamed: 0</th>\n",
       "      <th>filename</th>\n",
       "      <th>names</th>\n",
       "      <th>counts</th>\n",
       "      <th>fileLocation</th>\n",
       "      <th>yadav</th>\n",
       "      <th>modi</th>\n",
       "      <th>gandhi</th>\n",
       "      <th>kejriwal</th>\n",
       "      <th>owaisi</th>\n",
       "      <th>...</th>\n",
       "      <th>modi_actual</th>\n",
       "      <th>gandhi_actual</th>\n",
       "      <th>kejriwal_actual</th>\n",
       "      <th>owaisi_actual</th>\n",
       "      <th>Unknown_actual</th>\n",
       "      <th>chann_actual</th>\n",
       "      <th>yogi_actual</th>\n",
       "      <th>amit_actual</th>\n",
       "      <th>shivpal_actual</th>\n",
       "      <th>notes</th>\n",
       "    </tr>\n",
       "  </thead>\n",
       "  <tbody>\n",
       "    <tr>\n",
       "      <th>48</th>\n",
       "      <td>48</td>\n",
       "      <td>019LEGGl1LHm41w3QB77sy39g5elwJSEWWn7</td>\n",
       "      <td>['Unknown', 'kejriwal', 'modi', 'Unknown', 'Un...</td>\n",
       "      <td>{\"kejriwal\": 4}</td>\n",
       "      <td>drive/MyDrive/Capstone/Videos/videos_6/019LEGG...</td>\n",
       "      <td>0</td>\n",
       "      <td>1</td>\n",
       "      <td>0</td>\n",
       "      <td>2</td>\n",
       "      <td>0</td>\n",
       "      <td>...</td>\n",
       "      <td>0.0</td>\n",
       "      <td>0.0</td>\n",
       "      <td>0.0</td>\n",
       "      <td>0.0</td>\n",
       "      <td>1.0</td>\n",
       "      <td>0.0</td>\n",
       "      <td>0.0</td>\n",
       "      <td>0.0</td>\n",
       "      <td>0.0</td>\n",
       "      <td>0</td>\n",
       "    </tr>\n",
       "  </tbody>\n",
       "</table>\n",
       "<p>1 rows × 23 columns</p>\n",
       "</div>"
      ],
      "text/plain": [
       "    Unnamed: 0                              filename  \\\n",
       "48          48  019LEGGl1LHm41w3QB77sy39g5elwJSEWWn7   \n",
       "\n",
       "                                                names           counts  \\\n",
       "48  ['Unknown', 'kejriwal', 'modi', 'Unknown', 'Un...  {\"kejriwal\": 4}   \n",
       "\n",
       "                                         fileLocation  yadav  modi  gandhi  \\\n",
       "48  drive/MyDrive/Capstone/Videos/videos_6/019LEGG...      0     1       0   \n",
       "\n",
       "    kejriwal  owaisi  ...  modi_actual gandhi_actual  kejriwal_actual  \\\n",
       "48         2       0  ...          0.0           0.0              0.0   \n",
       "\n",
       "    owaisi_actual  Unknown_actual  chann_actual  yogi_actual  amit_actual  \\\n",
       "48            0.0             1.0           0.0          0.0          0.0   \n",
       "\n",
       "    shivpal_actual  notes  \n",
       "48             0.0      0  \n",
       "\n",
       "[1 rows x 23 columns]"
      ]
     },
     "execution_count": 10,
     "metadata": {},
     "output_type": "execute_result"
    }
   ],
   "source": [
    "frdf[frdf[\"kejriwal\"] > 1]"
   ]
  },
  {
   "cell_type": "code",
   "execution_count": 11,
   "metadata": {},
   "outputs": [
    {
     "data": {
      "text/plain": [
       "array([ True, False, False, False, False, False, False, False, False,\n",
       "       False, False, False, False, False, False, False, False, False,\n",
       "       False, False, False, False, False, False, False, False, False,\n",
       "       False, False, False, False, False, False, False, False, False,\n",
       "       False, False, False, False, False, False,  True, False, False,\n",
       "        True, False, False, False, False,  True, False, False, False,\n",
       "       False, False, False,  True, False, False, False, False,  True,\n",
       "        True,  True, False, False, False, False, False, False, False,\n",
       "       False, False, False])"
      ]
     },
     "execution_count": 11,
     "metadata": {},
     "output_type": "execute_result"
    }
   ],
   "source": [
    "np.where(frdf[\"yadav\"] > 0, True, False)"
   ]
  },
  {
   "cell_type": "code",
   "execution_count": 12,
   "metadata": {},
   "outputs": [],
   "source": [
    "person=\"yadav\"\n",
    "tn = ((frdf[person] == 0) & (frdf[f\"{person}_actual\"] == 0)).value_counts()\n",
    "fn = ((frdf[person] == 0) & (frdf[f\"{person}_actual\"] == 1)).value_counts()\n",
    "tp = ((frdf[person] == 1) & (frdf[f\"{person}_actual\"] == 1)).value_counts()\n",
    "fp = ((frdf[person] == 1) & (frdf[f\"{person}_actual\"] == 0)).value_counts()"
   ]
  },
  {
   "cell_type": "code",
   "execution_count": 16,
   "metadata": {},
   "outputs": [
    {
     "data": {
      "text/plain": [
       "False    69\n",
       "True      3\n",
       "dtype: int64"
      ]
     },
     "execution_count": 16,
     "metadata": {},
     "output_type": "execute_result"
    }
   ],
   "source": [
    "tp"
   ]
  },
  {
   "cell_type": "code",
   "execution_count": 20,
   "metadata": {},
   "outputs": [
    {
     "data": {
      "text/plain": [
       "array([False, False, False, False, False, False, False, False, False,\n",
       "       False, False, False, False, False, False, False, False, False,\n",
       "       False, False, False, False, False, False, False, False, False,\n",
       "       False, False, False, False,  True, False, False, False, False,\n",
       "       False, False, False, False, False, False, False, False, False,\n",
       "       False, False, False, False, False, False, False, False, False,\n",
       "       False, False,  True,  True, False, False, False, False,  True,\n",
       "       False,  True, False,  True, False,  True, False, False, False])"
      ]
     },
     "execution_count": 20,
     "metadata": {},
     "output_type": "execute_result"
    }
   ],
   "source": [
    "actual=np.where(frdf[f\"{person}_actual\"] > 0, True, False)\n",
    "actual"
   ]
  },
  {
   "cell_type": "code",
   "execution_count": 13,
   "metadata": {},
   "outputs": [],
   "source": [
    "confusion_mats = []\n",
    "people = \"yadav modi gandhi kejriwal owaisi\".split()\n",
    "\n",
    "for person in people:\n",
    "    actual=pd.Series(np.where(frdf[f\"{person}_actual\"] > 0, True, False), name=f\"{person}_actual\")\n",
    "    predicted=pd.Series(np.where(frdf[person] > 0, True, False), name=f\"{person}_predicted\")\n",
    "    df_confusion = pd.crosstab(actual, predicted, margins=True)\n",
    "    confusion_mats.append(df_confusion)"
   ]
  },
  {
   "cell_type": "code",
   "execution_count": 30,
   "metadata": {},
   "outputs": [
    {
     "data": {
      "text/plain": [
       "0.8777777777777778"
      ]
     },
     "execution_count": 30,
     "metadata": {},
     "output_type": "execute_result"
    }
   ],
   "source": [
    "(63+59+65+60+69)/(72*5)"
   ]
  },
  {
   "cell_type": "code",
   "execution_count": 37,
   "metadata": {},
   "outputs": [
    {
     "data": {
      "text/plain": [
       "0.9583333333333334"
      ]
     },
     "execution_count": 37,
     "metadata": {},
     "output_type": "execute_result"
    }
   ],
   "source": [
    "69/72"
   ]
  },
  {
   "cell_type": "code",
   "execution_count": 14,
   "metadata": {},
   "outputs": [
    {
     "data": {
      "text/plain": [
       "[yadav_predicted  False  True  All\n",
       " yadav_actual                     \n",
       " False               63     5   68\n",
       " True                 4     3    7\n",
       " All                 67     8   75,\n",
       " modi_predicted  False  True  All\n",
       " modi_actual                     \n",
       " False              53     5   58\n",
       " True                8     9   17\n",
       " All                61    14   75,\n",
       " gandhi_predicted  False  True  All\n",
       " gandhi_actual                     \n",
       " False                63     4   67\n",
       " True                  4     4    8\n",
       " All                  67     8   75,\n",
       " kejriwal_predicted  False  True  All\n",
       " kejriwal_actual                     \n",
       " False                  60     6   66\n",
       " True                    6     3    9\n",
       " All                    66     9   75,\n",
       " owaisi_predicted  False  True  All\n",
       " owaisi_actual                     \n",
       " False                66     0   66\n",
       " True                  3     6    9\n",
       " All                  69     6   75]"
      ]
     },
     "execution_count": 14,
     "metadata": {},
     "output_type": "execute_result"
    }
   ],
   "source": [
    "confusion_mats"
   ]
  }
 ],
 "metadata": {
  "kernelspec": {
   "display_name": "Python 3",
   "language": "python",
   "name": "python3"
  },
  "language_info": {
   "codemirror_mode": {
    "name": "ipython",
    "version": 3
   },
   "file_extension": ".py",
   "mimetype": "text/x-python",
   "name": "python",
   "nbconvert_exporter": "python",
   "pygments_lexer": "ipython3",
   "version": "3.11.1"
  }
 },
 "nbformat": 4,
 "nbformat_minor": 2
}
